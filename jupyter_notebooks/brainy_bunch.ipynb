{
 "cells": [
  {
   "cell_type": "markdown",
   "metadata": {},
   "source": [
    "# The Brainy Bunch\n",
    "\n",
    "Anthony Finch\n",
    "\n",
    "-------\n",
    "\n",
    "Hello and welcome to another exciting episode of *Yet Another Data Science Blog*.\n",
    "\n",
    "Over the past few weeks, we've reviewed several topics in Unsupervised Learning.\n",
    "\n",
    "* In [Is Bigger Really Better?](https://ajfinch123.github.io/ml/ai/unsupervised/compression/2020/08/31/is_bigger_better.html), we established a groundwork for this entire series on Unsupervised Learning by examining three core types of unsupervised tasks: dimensionality reduction, clustering, and anomaly detection.\n",
    "\n",
    "* In [Honey, I Shrunk the Data](https://ajfinch123.github.io/ml/ai/unsupervised/compression/2020/09/08/shrunk_data.html), we explored two methods for dimensionality reduction: Principal Components Analysis and Neural Autoencoders.\n",
    "\n",
    "* In [Acting Out, Part 1](https://ajfinch123.github.io/ml/ai/unsupervised/compression/word2vec/application/2020/09/13/acting_out.html), we examined a revolutionary application of dimensionality reduction called concept or word embedding.\n",
    "\n",
    "## Disclaimer\n",
    "\n",
    "I wanted to voice a quick disclaimer on this topic before we start.  This post is going to be pretty high-level, and a lot of the concepts here are explained just as well on Wikipedia or the SKLearn clustering documentation.\n",
    "\n",
    "I'd like to include this particular post to make sure that we cover all of the unsupervised learning methods; however, clustering isn't a topic that gets me very excited.  There are some experiments in deep clustering that I've toyed around with - maybe we'll do a post on those at some point - but the core clustering algorithms have been around for many decades.  That isn't to say that clustering isn't useful - I've had to use clustering in real projects on several occasions (especially for customer segmentation).  However, I just don't find the core clustering algorithms like K-Means, Gaussian Mixture Models and DBSCAN all that complicated or interesting.\n",
    "\n",
    "### Objective\n",
    "\n",
    "Before we dive into the specifics, let's talk about what we want to accomplish.  Clustering is a popular unsupervised learning technique for creating groups of similar observations.  This can be useful for a number of different applications.  Frequently, clustering is used for preliminary data analysis, comparisons between output spaces, or for customer segmentation.  It can also be used to construct targets for unlabeled data or as a preliminary step in anomaly detection.  Generally speaking, clustering is going to be used on an unlabeled data set in order to help the modeler or analyst to understand some of the most common types of points in their data.\n",
    "\n",
    "When using clustering algorithms, we are implicitly assuming that each cluster has a distinctive *Data Generating Process* (DGP).  This is essentially the same assumption that we make when we use supervised learning; the biggest difference is that, in clustering, we may not know the number of DGPs, or what they really mean.\n",
    "\n",
    "Let's take a look at the now-famous SciKit-Learn Clustering comparison visualization.  This visualization displays several different datasets (along the columns) and the performance of different clustering algorithms on them (along the rows).  Each distinct color represents a different cluster.\n",
    "\n",
    "![](./img/sklearn_cluster_comparison.png)\n",
    "\n",
    "There are a few important things that we can take away from this visualization:\n",
    "\n",
    "1. There are *a lot* of different clustering methods.\n",
    "2. Clustering methods perform very differently on different types of datasets (as an example, just look at the performance of DBSCAN on the first few datasets and then look at its performance on the last dataset).\n",
    "* Clustering methods can take wildly different amounts of time to run (just look at the bottom right-hand corner in each sub-figure; Affinity Propagation took almost 400x longer to run than K-Means on the first dataset)."
   ]
  },
  {
   "cell_type": "markdown",
   "metadata": {},
   "source": [
    "# So Which One is Best?\n",
    "\n",
    "This question is frustratingly complicated.  It feels so intuitive to just run the best clustering algorithm and move on.  Alternatively, if there are many different competing algorithms, why not just run all of them and see which one is best?\n",
    "\n",
    "The problem here is that we may not have an esternal optimization metric that we can employ.  Let's take two contrasting examples for the same application.  Suppose that we're trying to identify customer segments.  In the first example, we're identifying customers who may want to purchase different products.  In that case, we could cluster our customers based on their demographic (or other) variables, and then see how well customer purchasing behavior aligned with those clusters.  We don't want a predictive model of customer purchases, but we can employ that data as a rough evaluation metric.  In this case, we would have an external metric that we could examine after running several different algorithms.\n",
    "\n",
    "As an alternative, consider an application where we're trying to identify customer segments that may be influenced by different advertisements.  If we don't have prior data on how customers have reacted our previous ads, we can't really evaluate on some external metric.  This kind of application, where we don't really have an external metric, is surprisingly common.  In this case, we really need to understand how different algorithms may behave.\n",
    "\n",
    "Of course, it's also important to understand these differences because it can be inefficient to run every single possible algorithm and see which ones work best.  This can also lead to overfitting, if we don't retain a validation dataset."
   ]
  },
  {
   "cell_type": "markdown",
   "metadata": {},
   "source": [
    "# Clustering Types\n",
    "\n",
    "There are *many* different clustering algorithms (even more, in fact, than those displayed here).  The key to using this method successfuly is to know your options and to understand your dataset.  While there are many different specific implementations, there are a few rules you can use to think about what kinds of clusters you want.\n",
    "\n",
    "### Parameter-Learning Methods\n",
    "\n",
    "The first and (possibly) most intuitive family of clustering algorithms is centroid- or parameter-learning algorithms.  The most popular example is K-Means clustering, followed by Gaussian Mixture Models.\n",
    "\n",
    "These methods attempt to learn a set of parameters from the data; after that task is complete, the data can be discarded.  In K-Means clustering, we're trying to learn the coordinates for a set of 'centroids', which are basically canonical representatives of the different classes.  We can think of this as learning to look for the stereotypical example of a group of points.  Gaussian Mixture Models take this a step further and look for both a stereotypical example of a group and also the shape of the variance around that group.\n",
    "\n",
    "Taking the example of customer segmentation, we might look at a group of 10,000 customers and decide that we want 2 clusters.  When our algorithm has finished running, we note that there are two stereotypical customer representations.  Our first stereotypical customer is a young professional that spends most of their time on the computer, and our second stereotypical customer is an older retiree that enjoys reading.  If our goal was to advertise to these different groups, we might choose to target our first cluster with email or Facebook ads, while we would use mailing campaigns to target our second cluster.\n",
    "\n",
    "There are several advantages to this methodd of identifying clusters.  We can typically select our desired number of clusters, and these algorithms are extremely efficient to compute and retain.  Unfortunately, these methods can also lead to a false sense of security.  Depending on the shape of the underlying data (as above), it's possible that we'll lose a significant amount of granularity and accuracy by reducing an entire population down to a single stereotypical representation.  Moreover, we may end up with many customers getting misallocated to the wrong cluster, since identified clusters may not align with real customer segments (just look at the performance of these methods on the first SKLearn dataset in the graph above).\n",
    "\n",
    "**Advantages**\n",
    "\n",
    "* Easy to use and understand.\n",
    "* Small storage requirements.\n",
    "* Works well on larger datasets (K-Means; GMM does not scale).\n",
    "* Choose number of clusters.\n",
    "\n",
    "**Disadvantages**\n",
    "\n",
    "* Typically cannot identify complex cluster shapes\n",
    "* Need to know how many clusters you want before clustering.\n",
    "\n",
    "### Density and Connection Techniques\n",
    "\n",
    "In contrast to a technique where we discover stereotypical examples, there is a large family of algorithms that allocates points to clusters based on their positions relative to other points.  In hierarchical clustering, we start with every point in its own cluster, and then clusters are iteratively combined based on a distance rule.\n",
    "\n",
    "Alternatively, DBSCAN and similar algorithms examine the density of points and try to construct cut-points along low-density regions that divide high-density ones.  This can allow us to construct clusters that reflect the data much more intuitively (see, for instance, the performance of DBSCAN on the first dataset).  I like to visualize this as a diorama.  Where there are a lot of points, we see a mountain on the diorama.  Where there are very few points, we see a valley.  We start filling our diorama with water, which naturally settles in the valleys (the low-density regions).  These rivers, lakes, or other bodies of water will constitute the divides between our clusters in a density-based algorithm.\n",
    "\n",
    "Ultimately, all of these methods use the connections between data points to construct a *region* where a cluster applies, as opposed to constructing some kind of summary representation of that cluster.  Typically, this means that we have to retain the data in order to obtain a cluster label for new data points (unless we do something clever).\n",
    "\n",
    "The biggest problem with these algorithms is that they don't tend to work particularly well on large datasets (with more points, we're less likely to have very low-density regions, meaning that we can end up with all of our points being connected) and they don't work well when data has many dimensions (since data is likely to be separated along so many axes).\n",
    "\n",
    "**Advantages**\n",
    "\n",
    "* Works on complicated shapes.\n",
    "\n",
    "**Disadvantes**\n",
    "\n",
    "* Doesn't work as well with big/wide data.\n",
    "* Bigger storage requirements/doesn't really allow for prediction.\n",
    "* Can end up with degenerate clusters (e.g. hundreds of small clusters or one single giant cluster)."
   ]
  },
  {
   "cell_type": "markdown",
   "metadata": {},
   "source": [
    "# Tricks of the Trade\n",
    "\n",
    "Here's the thing: I've never seen anyone use anything other than K-Means, Gaussian Mixture, or DBSCAN in practice.  Actually, most applications I've seen really just boil down to K-Means.\n",
    "\n",
    "I know somone is going to get on my case for that, and I'm sure that isn't true in general.  However, I do think that K-Means is the go-to technique for clustering.  The biggest problem with K-Means is that it doesn't work well for complex data shapes.  Is there anything that we can do to leave us with the advantages of K-Means, while still giving us some of the better performance of other algorithms on data coming from complicated shapes?\n",
    "\n",
    "Enter: dimensionality reduction and feature compression (sort of).\n",
    "\n",
    "As demonstrated in [Honey, I Shrunk the Data](https://ajfinch123.github.io/ml/ai/unsupervised/compression/2020/09/08/shrunk_data.html), dimensionality reduction is capable of capturing highly complex relationships between variables and embedding those into another feature space space.  This is exactly the motivation behind [Spectral Clustering](https://scikit-learn.org/stable/modules/generated/sklearn.cluster.SpectralClustering.html#sklearn.cluster.SpectralClustering), which uses dimensionality-*expansion* before employing a simple K-means (or alternative) clustering algorithm to create highly effective groups.  The idea is that we can create separable groups by expanding the data into more dimensions.\n",
    "\n",
    "Alternatively, it can also be useful to employ dimensionality reduction when clustering over a high-dimensionality space.  In some cases, we may even want to start by reducing the dimensionality and then blow it back up again.  In the next section, we'll use a dimensionality-expansion technique (Kernel PCA) to blow up the space, then we'll use K-Means to build our clusters."
   ]
  },
  {
   "cell_type": "markdown",
   "metadata": {},
   "source": [
    "# Data\n",
    "\n",
    "We'll start out by import SciKit Learn's `datasets` module, which lets us build datasets like those used in SKLearn's clustering graphic above.\n",
    "\n",
    "This function is very convenient, since it gives us both the sample data points and the underlying class assignments."
   ]
  },
  {
   "cell_type": "code",
   "execution_count": 4,
   "metadata": {},
   "outputs": [],
   "source": [
    "from sklearn import datasets"
   ]
  },
  {
   "cell_type": "code",
   "execution_count": 22,
   "metadata": {},
   "outputs": [
    {
     "data": {
      "text/plain": [
       "(array([[-0.10349955, -0.39401849],\n",
       "        [-0.31215572, -0.9619363 ],\n",
       "        [-0.86975691, -0.55197513],\n",
       "        ...,\n",
       "        [ 0.20876037,  0.45644962],\n",
       "        [-0.8030704 ,  0.69293587],\n",
       "        [ 0.50630071, -0.1342842 ]]),\n",
       " array([1, 0, 0, ..., 1, 0, 1]))"
      ]
     },
     "execution_count": 22,
     "metadata": {},
     "output_type": "execute_result"
    }
   ],
   "source": [
    "data = datasets.make_circles(10000, noise = 0.05, factor = 0.5)\n",
    "data"
   ]
  },
  {
   "cell_type": "code",
   "execution_count": 23,
   "metadata": {},
   "outputs": [
    {
     "data": {
      "text/plain": [
       "<matplotlib.collections.PathCollection at 0x7fb460fa7ee0>"
      ]
     },
     "execution_count": 23,
     "metadata": {},
     "output_type": "execute_result"
    },
    {
     "data": {
      "image/png": "[encoded data removed]",
      "text/plain": [
       "<Figure size 432x288 with 1 Axes>"
      ]
     },
     "metadata": {
      "needs_background": "light"
     },
     "output_type": "display_data"
    }
   ],
   "source": [
    "import matplotlib.pyplot as plt\n",
    "\n",
    "plt.scatter(data[0][:,0], data[0][:,1])"
   ]
  },
  {
   "cell_type": "code",
   "execution_count": null,
   "metadata": {},
   "outputs": [],
   "source": []
  },
  {
   "cell_type": "code",
   "execution_count": 78,
   "metadata": {},
   "outputs": [
    {
     "data": {
      "text/plain": [
       "array([5, 9, 2])"
      ]
     },
     "execution_count": 78,
     "metadata": {},
     "output_type": "execute_result"
    }
   ],
   "source": [
    "np.random.choice(list(range(10)), 3, replace = False)"
   ]
  },
  {
   "cell_type": "code",
   "execution_count": null,
   "metadata": {},
   "outputs": [],
   "source": [
    "def kernel_kmeans(data, nclusters):\n",
    "    np.random.choice(len(data), size = n_clusters, replace = False)\n",
    "    \n",
    "    cluster_centers = dict(zip(\n",
    "        list(n_clusters),\n",
    "        data[ndx[i],:]\n",
    "        for i in n_clusters\n",
    "    ))\n",
    "    \n",
    "    for i in cluster_centers."
   ]
  },
  {
   "cell_type": "code",
   "execution_count": 79,
   "metadata": {},
   "outputs": [],
   "source": [
    "data_ = data"
   ]
  },
  {
   "cell_type": "code",
   "execution_count": 80,
   "metadata": {},
   "outputs": [],
   "source": [
    "data = data_[0]"
   ]
  },
  {
   "cell_type": "code",
   "execution_count": 144,
   "metadata": {},
   "outputs": [],
   "source": [
    "n_clusters = 2\n",
    "max_iter = 100000"
   ]
  },
  {
   "cell_type": "code",
   "execution_count": 145,
   "metadata": {},
   "outputs": [],
   "source": [
    "boo = True\n",
    "i = 0\n",
    "while boo:\n",
    "\n",
    "    clusters_old = [0]*len(data)\n",
    "\n",
    "    ndx = np.random.choice(len(data), size = n_clusters, replace = False)\n",
    "\n",
    "    cluster_centers = {\n",
    "        i : data[ndx[i]]\n",
    "        for i in range(n_clusters)\n",
    "    }\n",
    "\n",
    "    cluster_center_mat = np.stack([cluster_centers[i] for i in range(n_clusters)])\n",
    "\n",
    "    dists = np.tanh(np.dot(data,cluster_center_mat.transpose())/2+1)\n",
    "\n",
    "    clusters = np.argmin(dists, axis = 1)\n",
    "\n",
    "    if np.any(clusters != clusters_old):\n",
    "\n",
    "        boo = True\n",
    "\n",
    "        for clust in cluster_centers.keys():\n",
    "            cluster_centers[clust] = data[np.where(clusters==clust),:].mean(axis = 1)\n",
    "    \n",
    "    else:\n",
    "        boo = False\n",
    "    i += 1\n",
    "    \n",
    "    if i >= max_iter:\n",
    "        boo = False"
   ]
  },
  {
   "cell_type": "code",
   "execution_count": 146,
   "metadata": {},
   "outputs": [
    {
     "data": {
      "text/plain": [
       "{0: array([[-0.46189435,  0.12120563]]),\n",
       " 1: array([[ 0.46467062, -0.1203763 ]])}"
      ]
     },
     "execution_count": 146,
     "metadata": {},
     "output_type": "execute_result"
    }
   ],
   "source": [
    "cluster_centers"
   ]
  },
  {
   "cell_type": "code",
   "execution_count": 147,
   "metadata": {},
   "outputs": [
    {
     "data": {
      "text/plain": [
       "-5.9425270877650376e-05"
      ]
     },
     "execution_count": 147,
     "metadata": {},
     "output_type": "execute_result"
    }
   ],
   "source": [
    "adjusted_mutual_info_score(clusters, data_[1])"
   ]
  },
  {
   "cell_type": "code",
   "execution_count": 161,
   "metadata": {},
   "outputs": [
    {
     "data": {
      "text/plain": [
       "<matplotlib.collections.PathCollection at 0x7fb38434ae80>"
      ]
     },
     "execution_count": 161,
     "metadata": {},
     "output_type": "execute_result"
    },
    {
     "data": {
      "image/png": "[encoded data removed]",
      "text/plain": [
       "<Figure size 432x288 with 1 Axes>"
      ]
     },
     "metadata": {
      "needs_background": "light"
     },
     "output_type": "display_data"
    }
   ],
   "source": [
    "plt.scatter(data_[0][:,0], data_[0][:,1], color = ['r' if x else 'b' for x in clusters])"
   ]
  },
  {
   "cell_type": "code",
   "execution_count": null,
   "metadata": {},
   "outputs": [],
   "source": []
  },
  {
   "cell_type": "code",
   "execution_count": 157,
   "metadata": {},
   "outputs": [
    {
     "data": {
      "text/plain": [
       "0.989269767616518"
      ]
     },
     "execution_count": 157,
     "metadata": {},
     "output_type": "execute_result"
    }
   ],
   "source": [
    "np.dot(np.tanh(data[0,:]/2+1),np.tanh(data[0,:]/2+1))"
   ]
  },
  {
   "cell_type": "code",
   "execution_count": 160,
   "metadata": {},
   "outputs": [],
   "source": [
    "k = KMeans(2)\n",
    "clusters = k.fit_predict(k_mat)"
   ]
  },
  {
   "cell_type": "code",
   "execution_count": null,
   "metadata": {},
   "outputs": [],
   "source": []
  },
  {
   "cell_type": "code",
   "execution_count": 158,
   "metadata": {},
   "outputs": [
    {
     "data": {
      "text/plain": [
       "0.7943020794073808"
      ]
     },
     "execution_count": 158,
     "metadata": {},
     "output_type": "execute_result"
    }
   ],
   "source": [
    "np.tanh(np.dot(data[0,:],cluster_center_mat[0,:])/2+1)"
   ]
  },
  {
   "cell_type": "code",
   "execution_count": 102,
   "metadata": {},
   "outputs": [
    {
     "data": {
      "text/plain": [
       "array([ 0.02534287, -0.9070596 ])"
      ]
     },
     "execution_count": 102,
     "metadata": {},
     "output_type": "execute_result"
    }
   ],
   "source": [
    "cluster_center_mat[0,:]"
   ]
  },
  {
   "cell_type": "code",
   "execution_count": 159,
   "metadata": {},
   "outputs": [],
   "source": [
    "k_mat = sigmoid_kernel(data, data)"
   ]
  },
  {
   "cell_type": "code",
   "execution_count": 96,
   "metadata": {},
   "outputs": [
    {
     "data": {
      "text/plain": [
       "array([[-0.54128472, -0.83007702],\n",
       "       [-0.10625022,  0.57008336],\n",
       "       [-0.35389282,  0.86022643]])"
      ]
     },
     "execution_count": 96,
     "metadata": {},
     "output_type": "execute_result"
    }
   ],
   "source": [
    "cluster_center_mat"
   ]
  },
  {
   "cell_type": "code",
   "execution_count": 91,
   "metadata": {},
   "outputs": [
    {
     "data": {
      "text/plain": [
       "[([0, 1, 2],),\n",
       " ([array([-0.57424589, -0.86383652]),\n",
       "   array([ 0.42037011, -0.30902305]),\n",
       "   array([0.39198637, 0.1734089 ])],)]"
      ]
     },
     "execution_count": 91,
     "metadata": {},
     "output_type": "execute_result"
    }
   ],
   "source": [
    "list(zip(\n",
    "    (list(range(n_clusters)),\n",
    "    [data[ndx[i],:]\n",
    "    for i in range(n_clusters)])\n",
    "))"
   ]
  },
  {
   "cell_type": "code",
   "execution_count": null,
   "metadata": {},
   "outputs": [],
   "source": []
  },
  {
   "cell_type": "code",
   "execution_count": null,
   "metadata": {},
   "outputs": [],
   "source": []
  },
  {
   "cell_type": "code",
   "execution_count": null,
   "metadata": {},
   "outputs": [],
   "source": []
  },
  {
   "cell_type": "code",
   "execution_count": null,
   "metadata": {},
   "outputs": [],
   "source": []
  },
  {
   "cell_type": "markdown",
   "metadata": {},
   "source": [
    "### Dimensionality Expansion\n",
    "\n",
    "We'll use the exact same algorithm that we build in our Honey, I Shrunk the Data"
   ]
  },
  {
   "cell_type": "code",
   "execution_count": null,
   "metadata": {},
   "outputs": [],
   "source": []
  },
  {
   "cell_type": "code",
   "execution_count": 62,
   "metadata": {},
   "outputs": [],
   "source": [
    "import numpy as np\n",
    "from sklearn.base import TransformerMixin\n",
    "from tensorflow.keras import Model\n",
    "from tensorflow.keras.layers import Input, Dense, Dropout\n",
    "\n",
    "class expander(TransformerMixin):\n",
    "    \n",
    "    def __init__(self):\n",
    "        pass\n",
    "        #self.n_components = n_components\n",
    "\n",
    "    #SKLearn transformers should take y as an optional argument, even when it isn't necessary, to make sure that they can work with pipelines\n",
    "    def fit(self, data, y = None): \n",
    "        return self\n",
    "    \n",
    "    def transform(self, data):\n",
    "        new_data = np.concatenate([\n",
    "            np.cos(data), np.sin(data)\n",
    "        ], axis = 1)\n",
    "        return new_data"
   ]
  },
  {
   "cell_type": "code",
   "execution_count": 63,
   "metadata": {},
   "outputs": [],
   "source": [
    "t = expander()\n",
    "\n",
    "data_t = t.transform(data[0])"
   ]
  },
  {
   "cell_type": "code",
   "execution_count": 64,
   "metadata": {},
   "outputs": [
    {
     "data": {
      "text/plain": [
       "array([[-0.10349955, -0.39401849],\n",
       "       [-0.31215572, -0.9619363 ],\n",
       "       [-0.86975691, -0.55197513],\n",
       "       ...,\n",
       "       [ 0.20876037,  0.45644962],\n",
       "       [-0.8030704 ,  0.69293587],\n",
       "       [ 0.50630071, -0.1342842 ]])"
      ]
     },
     "execution_count": 64,
     "metadata": {},
     "output_type": "execute_result"
    }
   ],
   "source": [
    "data[0]"
   ]
  },
  {
   "cell_type": "code",
   "execution_count": 65,
   "metadata": {},
   "outputs": [
    {
     "data": {
      "text/plain": [
       "array([[ 0.9946487 ,  0.92337381, -0.10331486, -0.38390207],\n",
       "       [ 0.95167374,  0.57193271, -0.30711089, -0.82030054],\n",
       "       [ 0.64501233,  0.85149049, -0.76417216, -0.52437005],\n",
       "       ...,\n",
       "       [ 0.97828858,  0.89762303,  0.20724734,  0.44076398],\n",
       "       [ 0.69450086,  0.7693739 , -0.71949188,  0.63879871],\n",
       "       [ 0.87454444,  0.99099742,  0.48494538, -0.13388099]])"
      ]
     },
     "execution_count": 65,
     "metadata": {},
     "output_type": "execute_result"
    }
   ],
   "source": [
    "data_t"
   ]
  },
  {
   "cell_type": "code",
   "execution_count": 67,
   "metadata": {},
   "outputs": [],
   "source": [
    "from sklearn.cluster import KMeans\n",
    "\n",
    "k = KMeans(2)\n",
    "\n",
    "lab = k.fit_predict(data_t)"
   ]
  },
  {
   "cell_type": "code",
   "execution_count": 70,
   "metadata": {},
   "outputs": [],
   "source": [
    "from sklearn.metrics import adjusted_mutual_info_score"
   ]
  },
  {
   "cell_type": "code",
   "execution_count": 71,
   "metadata": {},
   "outputs": [
    {
     "data": {
      "text/plain": [
       "-6.926689182263368e-05"
      ]
     },
     "execution_count": 71,
     "metadata": {},
     "output_type": "execute_result"
    }
   ],
   "source": [
    "adjusted_mutual_info_score(lab, data[1])"
   ]
  },
  {
   "cell_type": "code",
   "execution_count": 73,
   "metadata": {},
   "outputs": [],
   "source": [
    "from sklearn.metrics.pairwise import sigmoid_kernel"
   ]
  },
  {
   "cell_type": "code",
   "execution_count": 75,
   "metadata": {},
   "outputs": [],
   "source": [
    "ker = sigmoid_kernel(data[0])"
   ]
  },
  {
   "cell_type": "code",
   "execution_count": 76,
   "metadata": {},
   "outputs": [
    {
     "data": {
      "text/plain": [
       "(10000, 10000)"
      ]
     },
     "execution_count": 76,
     "metadata": {},
     "output_type": "execute_result"
    }
   ],
   "source": [
    "ker.shape"
   ]
  },
  {
   "cell_type": "code",
   "execution_count": null,
   "metadata": {},
   "outputs": [],
   "source": []
  },
  {
   "cell_type": "code",
   "execution_count": null,
   "metadata": {},
   "outputs": [],
   "source": []
  },
  {
   "cell_type": "code",
   "execution_count": 52,
   "metadata": {},
   "outputs": [],
   "source": [
    "from sklearn.decomposition import KernelPCA"
   ]
  },
  {
   "cell_type": "code",
   "execution_count": 53,
   "metadata": {},
   "outputs": [],
   "source": [
    "kpca = KernelPCA(4)"
   ]
  },
  {
   "cell_type": "code",
   "execution_count": null,
   "metadata": {},
   "outputs": [],
   "source": []
  },
  {
   "cell_type": "code",
   "execution_count": 54,
   "metadata": {},
   "outputs": [
    {
     "data": {
      "text/plain": [
       "array([[-0.12315019,  0.38911535, -0.        ,  0.        ],\n",
       "       [-0.35895529,  0.94630832,  0.        , -0.        ],\n",
       "       [-0.8961343 ,  0.5099301 ,  0.        , -0.        ],\n",
       "       ...,\n",
       "       [ 0.22976601, -0.44530205,  0.        , -0.        ],\n",
       "       [-0.76948098, -0.7303156 ,  0.        , -0.        ],\n",
       "       [ 0.49846784,  0.15909519,  0.        ,  0.        ]])"
      ]
     },
     "execution_count": 54,
     "metadata": {},
     "output_type": "execute_result"
    }
   ],
   "source": [
    "kpca.fit_transform(data[0])"
   ]
  },
  {
   "cell_type": "code",
   "execution_count": null,
   "metadata": {},
   "outputs": [],
   "source": []
  },
  {
   "cell_type": "code",
   "execution_count": 39,
   "metadata": {},
   "outputs": [],
   "source": [
    "from sklearn.manifold import TSNE"
   ]
  },
  {
   "cell_type": "code",
   "execution_count": 41,
   "metadata": {},
   "outputs": [],
   "source": [
    "data_t = TSNE(2).fit_transform(data[0])"
   ]
  },
  {
   "cell_type": "code",
   "execution_count": 42,
   "metadata": {},
   "outputs": [
    {
     "data": {
      "text/plain": [
       "array([[ 10.375333,  78.302155],\n",
       "       [-63.924316,  49.00371 ],\n",
       "       [-65.90493 ,   1.627245],\n",
       "       ...,\n",
       "       [ 11.497115, -56.624928],\n",
       "       [ 50.19357 , -58.30932 ],\n",
       "       [ 42.894962,  11.182528]], dtype=float32)"
      ]
     },
     "execution_count": 42,
     "metadata": {},
     "output_type": "execute_result"
    }
   ],
   "source": [
    "data_t"
   ]
  },
  {
   "cell_type": "code",
   "execution_count": null,
   "metadata": {},
   "outputs": [],
   "source": []
  },
  {
   "cell_type": "code",
   "execution_count": null,
   "metadata": {},
   "outputs": [],
   "source": []
  },
  {
   "cell_type": "code",
   "execution_count": 27,
   "metadata": {},
   "outputs": [],
   "source": [
    "import numpy as np\n",
    "from sklearn.base import TransformerMixin\n",
    "from tensorflow.keras import Model\n",
    "from tensorflow.keras.layers import Input, Dense, Dropout\n",
    "\n",
    "class autoencoder(TransformerMixin):\n",
    "    \n",
    "    def __init__(self, n_components = 2):\n",
    "        self.n_components = n_components\n",
    "        self.pca_mod = None\n",
    "        self.inv_mod = None\n",
    "        \n",
    "    def _build_model(self, n_feats):\n",
    "        \n",
    "        inputs = Input(shape = (n_feats,))\n",
    "        dense_0 = Dense(n_feats*2, activation = 'tanh')(inputs)\n",
    "        dense_1 = Dense(n_feats*4, activation = 'relu')(dense_0)\n",
    "        drop_0 = Dropout(0.1)(dense_1)\n",
    "        dense_2 = Dense(n_feats, activation = 'tanh')(drop_0)\n",
    "        pca_feats = Dense(self.n_components, activation = 'linear')(dense_1)\n",
    "        \n",
    "        pca_inputs = Input(shape = (self.n_components,))\n",
    "        \n",
    "        dense01 = Dense(n_feats, activation = 'linear')(pca_inputs)\n",
    "        dense11 = Dense(n_feats*2, activation = 'tanh')(dense01)\n",
    "        dense21 = Dense(n_feats*4, activation = 'relu')(dense11)\n",
    "        drop_1 = Dropout(0.1)(dense21)\n",
    "        dense31 = Dense(n_feats, activation = 'tanh')(drop_1)\n",
    "        recon_feats = Dense(n_feats, activation = 'linear')(dense31)\n",
    "        \n",
    "        \n",
    "        self.pca_mod = Model(inputs = inputs, outputs = pca_feats)\n",
    "        self.inv_mod = Model(inputs = pca_inputs, outputs = recon_feats)\n",
    "        \n",
    "        final_out = self.inv_mod(self.pca_mod(inputs))\n",
    "        \n",
    "        self.full_inv_mod = Model(inputs = inputs, outputs = final_out)\n",
    "        \n",
    "        \n",
    "        self.full_inv_mod.compile(optimizer = 'adam', loss = 'mean_squared_error')\n",
    "\n",
    "    #SKLearn transformers should take y as an optional argument, even when it isn't necessary, to make sure that they can work with pipelines\n",
    "    def fit(self, data, y = None, n_epochs = 10, batch_size = 100, verbose = False): \n",
    "        self._build_model(data.shape[1])\n",
    "        \n",
    "        self.full_inv_mod.fit(\n",
    "            np.array(data),\n",
    "            np.array(data),\n",
    "            epochs = n_epochs,\n",
    "            batch_size = batch_size,\n",
    "            verbose = verbose\n",
    "        )\n",
    "        \n",
    "        return self\n",
    "    \n",
    "    def transform(self, data):\n",
    "        return self.pca_mod.predict(data)\n",
    "    \n",
    "    def inverse_transform(self, data):\n",
    "        return self.inv_mod.predict(data)"
   ]
  },
  {
   "cell_type": "code",
   "execution_count": 32,
   "metadata": {},
   "outputs": [],
   "source": [
    "ae = autoencoder(1)"
   ]
  },
  {
   "cell_type": "code",
   "execution_count": 33,
   "metadata": {},
   "outputs": [],
   "source": [
    "data_t = ae.fit_transform(data[0])"
   ]
  },
  {
   "cell_type": "code",
   "execution_count": 49,
   "metadata": {},
   "outputs": [
    {
     "data": {
      "text/plain": [
       "<matplotlib.collections.PathCollection at 0x7fb3840cee50>"
      ]
     },
     "execution_count": 49,
     "metadata": {},
     "output_type": "execute_result"
    },
    {
     "data": {
      "image/png": "[encoded data removed]",
      "text/plain": [
       "<Figure size 432x288 with 1 Axes>"
      ]
     },
     "metadata": {
      "needs_background": "light"
     },
     "output_type": "display_data"
    }
   ],
   "source": [
    "plt.scatter(data_t[:,0], data_t[:,1], color = ['r' if x else 'b' for x in data[1]])"
   ]
  },
  {
   "cell_type": "code",
   "execution_count": null,
   "metadata": {},
   "outputs": [],
   "source": []
  },
  {
   "cell_type": "code",
   "execution_count": null,
   "metadata": {},
   "outputs": [],
   "source": []
  }
 ],
 "metadata": {
  "kernelspec": {
   "display_name": "Python 3",
   "language": "python",
   "name": "python3"
  },
  "language_info": {
   "codemirror_mode": {
    "name": "ipython",
    "version": 3
   },
   "file_extension": ".py",
   "mimetype": "text/x-python",
   "name": "python",
   "nbconvert_exporter": "python",
   "pygments_lexer": "ipython3",
   "version": "3.8.2"
  }
 },
 "nbformat": 4,
 "nbformat_minor": 4
}
